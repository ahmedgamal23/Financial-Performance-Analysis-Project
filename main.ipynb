{
 "cells": [
  {
   "cell_type": "markdown",
   "metadata": {},
   "source": [
    "#### Financial Perfomance Analysis"
   ]
  },
  {
   "cell_type": "code",
   "execution_count": 13,
   "metadata": {},
   "outputs": [],
   "source": [
    "import os\n",
    "import openpyxl\n",
    "import pandas as pd\n",
    "import numpy as np\n",
    "import matplotlib.pyplot as plt\n",
    "import seaborn as sns"
   ]
  },
  {
   "cell_type": "code",
   "execution_count": 27,
   "metadata": {},
   "outputs": [],
   "source": [
    "pd.options.display.max_columns = None"
   ]
  },
  {
   "cell_type": "markdown",
   "metadata": {},
   "source": [
    "##### laod data"
   ]
  },
  {
   "cell_type": "code",
   "execution_count": 62,
   "metadata": {},
   "outputs": [
    {
     "data": {
      "text/html": [
       "<div>\n",
       "<style scoped>\n",
       "    .dataframe tbody tr th:only-of-type {\n",
       "        vertical-align: middle;\n",
       "    }\n",
       "\n",
       "    .dataframe tbody tr th {\n",
       "        vertical-align: top;\n",
       "    }\n",
       "\n",
       "    .dataframe thead th {\n",
       "        text-align: right;\n",
       "    }\n",
       "</style>\n",
       "<table border=\"1\" class=\"dataframe\">\n",
       "  <thead>\n",
       "    <tr style=\"text-align: right;\">\n",
       "      <th></th>\n",
       "      <th>DATE</th>\n",
       "      <th>LOCATION</th>\n",
       "      <th>ITEM</th>\n",
       "      <th>COST</th>\n",
       "      <th>TOTAL</th>\n",
       "      <th>COMMENTS</th>\n",
       "      <th>file_name</th>\n",
       "    </tr>\n",
       "  </thead>\n",
       "  <tbody>\n",
       "    <tr>\n",
       "      <th>0</th>\n",
       "      <td>2018-12-01 00:00:00</td>\n",
       "      <td>Shirley</td>\n",
       "      <td>Rent</td>\n",
       "      <td>-670.00</td>\n",
       "      <td>NaN</td>\n",
       "      <td>NaN</td>\n",
       "      <td>2018</td>\n",
       "    </tr>\n",
       "    <tr>\n",
       "      <th>1</th>\n",
       "      <td>2018-12-03 00:00:00</td>\n",
       "      <td>Superstore</td>\n",
       "      <td>Food</td>\n",
       "      <td>-36.91</td>\n",
       "      <td>NaN</td>\n",
       "      <td>NaN</td>\n",
       "      <td>2018</td>\n",
       "    </tr>\n",
       "    <tr>\n",
       "      <th>2</th>\n",
       "      <td>2018-12-09 00:00:00</td>\n",
       "      <td>Safeway</td>\n",
       "      <td>Food</td>\n",
       "      <td>-0.73</td>\n",
       "      <td>NaN</td>\n",
       "      <td>NaN</td>\n",
       "      <td>2018</td>\n",
       "    </tr>\n",
       "    <tr>\n",
       "      <th>3</th>\n",
       "      <td>2018-12-08 00:00:00</td>\n",
       "      <td>Subway</td>\n",
       "      <td>Food</td>\n",
       "      <td>-8.39</td>\n",
       "      <td>NaN</td>\n",
       "      <td>NaN</td>\n",
       "      <td>2018</td>\n",
       "    </tr>\n",
       "    <tr>\n",
       "      <th>4</th>\n",
       "      <td>2018-12-11 00:00:00</td>\n",
       "      <td>Safeway</td>\n",
       "      <td>Food</td>\n",
       "      <td>-3.25</td>\n",
       "      <td>NaN</td>\n",
       "      <td>NaN</td>\n",
       "      <td>2018</td>\n",
       "    </tr>\n",
       "  </tbody>\n",
       "</table>\n",
       "</div>"
      ],
      "text/plain": [
       "                  DATE    LOCATION  ITEM    COST  TOTAL COMMENTS file_name\n",
       "0  2018-12-01 00:00:00     Shirley  Rent -670.00    NaN      NaN      2018\n",
       "1  2018-12-03 00:00:00  Superstore  Food  -36.91    NaN      NaN      2018\n",
       "2  2018-12-09 00:00:00     Safeway  Food   -0.73    NaN      NaN      2018\n",
       "3  2018-12-08 00:00:00      Subway  Food   -8.39    NaN      NaN      2018\n",
       "4  2018-12-11 00:00:00     Safeway  Food   -3.25    NaN      NaN      2018"
      ]
     },
     "execution_count": 62,
     "metadata": {},
     "output_type": "execute_result"
    }
   ],
   "source": [
    "PATH = 'Finance_Data'\n",
    "col_names = []\n",
    "Folders = os.listdir(PATH)\n",
    "data = pd.DataFrame()\n",
    "for folderName in Folders:\n",
    "    path = os.path.join(PATH, folderName)\n",
    "    for file in os.listdir(path):\n",
    "        full_path = os.path.join(path, file)\n",
    "        df = pd.read_excel(full_path, sheet_name=\"Sheet1\")\n",
    "        df[\"file_name\"] = file.split('.')[0].split('_')[1]\n",
    "        data = pd.concat([data, df])\n",
    "        data = data.reset_index(drop=True)\n",
    "data.head()"
   ]
  },
  {
   "cell_type": "code",
   "execution_count": 63,
   "metadata": {},
   "outputs": [
    {
     "data": {
      "text/plain": [
       "(1067, 7)"
      ]
     },
     "execution_count": 63,
     "metadata": {},
     "output_type": "execute_result"
    }
   ],
   "source": [
    "data.shape"
   ]
  },
  {
   "cell_type": "code",
   "execution_count": 64,
   "metadata": {},
   "outputs": [
    {
     "name": "stdout",
     "output_type": "stream",
     "text": [
      "<class 'pandas.core.frame.DataFrame'>\n",
      "RangeIndex: 1067 entries, 0 to 1066\n",
      "Data columns (total 7 columns):\n",
      " #   Column     Non-Null Count  Dtype  \n",
      "---  ------     --------------  -----  \n",
      " 0   DATE       1067 non-null   object \n",
      " 1   LOCATION   1067 non-null   object \n",
      " 2   ITEM       1067 non-null   object \n",
      " 3   COST       1067 non-null   float64\n",
      " 4   TOTAL      0 non-null      float64\n",
      " 5   COMMENTS   162 non-null    object \n",
      " 6   file_name  1067 non-null   object \n",
      "dtypes: float64(2), object(5)\n",
      "memory usage: 58.5+ KB\n"
     ]
    }
   ],
   "source": [
    "data.info()"
   ]
  },
  {
   "cell_type": "code",
   "execution_count": 65,
   "metadata": {},
   "outputs": [],
   "source": [
    "data[\"DATE\"] = pd.to_datetime(data[\"DATE\"], errors=\"coerce\")\n",
    "data[\"file_name\"] = pd.to_datetime(data[\"file_name\"], errors=\"coerce\", format=\"%Y\")\n",
    "data = data.drop('TOTAL', axis=1)"
   ]
  },
  {
   "cell_type": "code",
   "execution_count": 66,
   "metadata": {},
   "outputs": [
    {
     "name": "stdout",
     "output_type": "stream",
     "text": [
      "<class 'pandas.core.frame.DataFrame'>\n",
      "RangeIndex: 1067 entries, 0 to 1066\n",
      "Data columns (total 6 columns):\n",
      " #   Column     Non-Null Count  Dtype         \n",
      "---  ------     --------------  -----         \n",
      " 0   DATE       1064 non-null   datetime64[ns]\n",
      " 1   LOCATION   1067 non-null   object        \n",
      " 2   ITEM       1067 non-null   object        \n",
      " 3   COST       1067 non-null   float64       \n",
      " 4   COMMENTS   162 non-null    object        \n",
      " 5   file_name  1067 non-null   datetime64[ns]\n",
      "dtypes: datetime64[ns](2), float64(1), object(3)\n",
      "memory usage: 50.1+ KB\n"
     ]
    }
   ],
   "source": [
    "data.info()"
   ]
  },
  {
   "cell_type": "code",
   "execution_count": 67,
   "metadata": {},
   "outputs": [
    {
     "data": {
      "text/html": [
       "<div>\n",
       "<style scoped>\n",
       "    .dataframe tbody tr th:only-of-type {\n",
       "        vertical-align: middle;\n",
       "    }\n",
       "\n",
       "    .dataframe tbody tr th {\n",
       "        vertical-align: top;\n",
       "    }\n",
       "\n",
       "    .dataframe thead th {\n",
       "        text-align: right;\n",
       "    }\n",
       "</style>\n",
       "<table border=\"1\" class=\"dataframe\">\n",
       "  <thead>\n",
       "    <tr style=\"text-align: right;\">\n",
       "      <th></th>\n",
       "      <th>DATE</th>\n",
       "      <th>LOCATION</th>\n",
       "      <th>ITEM</th>\n",
       "      <th>COST</th>\n",
       "      <th>COMMENTS</th>\n",
       "      <th>file_name</th>\n",
       "    </tr>\n",
       "  </thead>\n",
       "  <tbody>\n",
       "    <tr>\n",
       "      <th>0</th>\n",
       "      <td>2018-12-01</td>\n",
       "      <td>Shirley</td>\n",
       "      <td>Rent</td>\n",
       "      <td>-670.00</td>\n",
       "      <td>NaN</td>\n",
       "      <td>2018-01-01</td>\n",
       "    </tr>\n",
       "    <tr>\n",
       "      <th>1</th>\n",
       "      <td>2018-12-03</td>\n",
       "      <td>Superstore</td>\n",
       "      <td>Food</td>\n",
       "      <td>-36.91</td>\n",
       "      <td>NaN</td>\n",
       "      <td>2018-01-01</td>\n",
       "    </tr>\n",
       "    <tr>\n",
       "      <th>2</th>\n",
       "      <td>2018-12-09</td>\n",
       "      <td>Safeway</td>\n",
       "      <td>Food</td>\n",
       "      <td>-0.73</td>\n",
       "      <td>NaN</td>\n",
       "      <td>2018-01-01</td>\n",
       "    </tr>\n",
       "    <tr>\n",
       "      <th>3</th>\n",
       "      <td>2018-12-08</td>\n",
       "      <td>Subway</td>\n",
       "      <td>Food</td>\n",
       "      <td>-8.39</td>\n",
       "      <td>NaN</td>\n",
       "      <td>2018-01-01</td>\n",
       "    </tr>\n",
       "    <tr>\n",
       "      <th>4</th>\n",
       "      <td>2018-12-11</td>\n",
       "      <td>Safeway</td>\n",
       "      <td>Food</td>\n",
       "      <td>-3.25</td>\n",
       "      <td>NaN</td>\n",
       "      <td>2018-01-01</td>\n",
       "    </tr>\n",
       "  </tbody>\n",
       "</table>\n",
       "</div>"
      ],
      "text/plain": [
       "        DATE    LOCATION  ITEM    COST COMMENTS  file_name\n",
       "0 2018-12-01     Shirley  Rent -670.00      NaN 2018-01-01\n",
       "1 2018-12-03  Superstore  Food  -36.91      NaN 2018-01-01\n",
       "2 2018-12-09     Safeway  Food   -0.73      NaN 2018-01-01\n",
       "3 2018-12-08      Subway  Food   -8.39      NaN 2018-01-01\n",
       "4 2018-12-11     Safeway  Food   -3.25      NaN 2018-01-01"
      ]
     },
     "execution_count": 67,
     "metadata": {},
     "output_type": "execute_result"
    }
   ],
   "source": [
    "data.head()"
   ]
  },
  {
   "cell_type": "code",
   "execution_count": 68,
   "metadata": {},
   "outputs": [
    {
     "data": {
      "text/plain": [
       "count    1067.000000\n",
       "mean      -33.132687\n",
       "std       101.209133\n",
       "min      -670.000000\n",
       "25%       -21.000000\n",
       "50%       -10.490000\n",
       "75%        -5.510000\n",
       "max        -0.300000\n",
       "Name: COST, dtype: float64"
      ]
     },
     "execution_count": 68,
     "metadata": {},
     "output_type": "execute_result"
    }
   ],
   "source": [
    "data[\"COST\"].describe()"
   ]
  },
  {
   "cell_type": "markdown",
   "metadata": {},
   "source": [
    "#### Group date and calculate total cost for each date"
   ]
  },
  {
   "cell_type": "code",
   "execution_count": 76,
   "metadata": {},
   "outputs": [
    {
     "data": {
      "text/html": [
       "<div>\n",
       "<style scoped>\n",
       "    .dataframe tbody tr th:only-of-type {\n",
       "        vertical-align: middle;\n",
       "    }\n",
       "\n",
       "    .dataframe tbody tr th {\n",
       "        vertical-align: top;\n",
       "    }\n",
       "\n",
       "    .dataframe thead th {\n",
       "        text-align: right;\n",
       "    }\n",
       "</style>\n",
       "<table border=\"1\" class=\"dataframe\">\n",
       "  <thead>\n",
       "    <tr style=\"text-align: right;\">\n",
       "      <th></th>\n",
       "      <th>DATE</th>\n",
       "      <th>COST</th>\n",
       "    </tr>\n",
       "  </thead>\n",
       "  <tbody>\n",
       "    <tr>\n",
       "      <th>0</th>\n",
       "      <td>2018-08-16</td>\n",
       "      <td>-56.37</td>\n",
       "    </tr>\n",
       "    <tr>\n",
       "      <th>1</th>\n",
       "      <td>2018-09-01</td>\n",
       "      <td>-670.00</td>\n",
       "    </tr>\n",
       "    <tr>\n",
       "      <th>2</th>\n",
       "      <td>2018-09-02</td>\n",
       "      <td>-58.46</td>\n",
       "    </tr>\n",
       "    <tr>\n",
       "      <th>3</th>\n",
       "      <td>2018-09-05</td>\n",
       "      <td>-13.49</td>\n",
       "    </tr>\n",
       "    <tr>\n",
       "      <th>4</th>\n",
       "      <td>2018-09-07</td>\n",
       "      <td>-5.35</td>\n",
       "    </tr>\n",
       "  </tbody>\n",
       "</table>\n",
       "</div>"
      ],
      "text/plain": [
       "        DATE    COST\n",
       "0 2018-08-16  -56.37\n",
       "1 2018-09-01 -670.00\n",
       "2 2018-09-02  -58.46\n",
       "3 2018-09-05  -13.49\n",
       "4 2018-09-07   -5.35"
      ]
     },
     "execution_count": 76,
     "metadata": {},
     "output_type": "execute_result"
    }
   ],
   "source": [
    "date_group = data.groupby('DATE').agg({\"COST\":\"sum\"}).sort_values(\"DATE\", ascending=True)\n",
    "date_group.reset_index(inplace=True)\n",
    "date_group.head()"
   ]
  },
  {
   "cell_type": "code",
   "execution_count": 80,
   "metadata": {},
   "outputs": [
    {
     "data": {
      "image/png": "[encoded data removed]",
      "text/plain": [
       "<Figure size 640x480 with 1 Axes>"
      ]
     },
     "metadata": {},
     "output_type": "display_data"
    }
   ],
   "source": [
    "date_group.plot(kind=\"scatter\", x=\"DATE\", y=\"COST\")\n",
    "plt.xticks(rotation=90)\n",
    "plt.show()"
   ]
  },
  {
   "cell_type": "code",
   "execution_count": 97,
   "metadata": {},
   "outputs": [
    {
     "data": {
      "text/html": [
       "<div>\n",
       "<style scoped>\n",
       "    .dataframe tbody tr th:only-of-type {\n",
       "        vertical-align: middle;\n",
       "    }\n",
       "\n",
       "    .dataframe tbody tr th {\n",
       "        vertical-align: top;\n",
       "    }\n",
       "\n",
       "    .dataframe thead th {\n",
       "        text-align: right;\n",
       "    }\n",
       "</style>\n",
       "<table border=\"1\" class=\"dataframe\">\n",
       "  <thead>\n",
       "    <tr style=\"text-align: right;\">\n",
       "      <th></th>\n",
       "      <th>DATE</th>\n",
       "      <th>LOCATION</th>\n",
       "      <th>ITEM</th>\n",
       "      <th>COST</th>\n",
       "    </tr>\n",
       "  </thead>\n",
       "  <tbody>\n",
       "    <tr>\n",
       "      <th>0</th>\n",
       "      <td>2018-08-16</td>\n",
       "      <td>Superstore</td>\n",
       "      <td>Food</td>\n",
       "      <td>-56.37</td>\n",
       "    </tr>\n",
       "    <tr>\n",
       "      <th>1</th>\n",
       "      <td>2018-09-01</td>\n",
       "      <td>Shirley</td>\n",
       "      <td>Rent</td>\n",
       "      <td>-670.00</td>\n",
       "    </tr>\n",
       "    <tr>\n",
       "      <th>2</th>\n",
       "      <td>2018-09-02</td>\n",
       "      <td>Wal-Mart</td>\n",
       "      <td>Personal Items</td>\n",
       "      <td>-58.46</td>\n",
       "    </tr>\n",
       "    <tr>\n",
       "      <th>3</th>\n",
       "      <td>2018-09-05</td>\n",
       "      <td>Blaze Pizza</td>\n",
       "      <td>Food</td>\n",
       "      <td>-13.49</td>\n",
       "    </tr>\n",
       "    <tr>\n",
       "      <th>4</th>\n",
       "      <td>2018-09-07</td>\n",
       "      <td>Safeway</td>\n",
       "      <td>Food</td>\n",
       "      <td>-5.35</td>\n",
       "    </tr>\n",
       "  </tbody>\n",
       "</table>\n",
       "</div>"
      ],
      "text/plain": [
       "        DATE     LOCATION            ITEM    COST\n",
       "0 2018-08-16   Superstore            Food  -56.37\n",
       "1 2018-09-01      Shirley            Rent -670.00\n",
       "2 2018-09-02     Wal-Mart  Personal Items  -58.46\n",
       "3 2018-09-05  Blaze Pizza            Food  -13.49\n",
       "4 2018-09-07      Safeway            Food   -5.35"
      ]
     },
     "execution_count": 97,
     "metadata": {},
     "output_type": "execute_result"
    }
   ],
   "source": [
    "loc_group = data.groupby(['DATE', 'LOCATION', 'ITEM']).agg({\"COST\":\"sum\"}).sort_values(\"DATE\", ascending=True)\n",
    "loc_group.reset_index(inplace=True)\n",
    "loc_group.head()"
   ]
  },
  {
   "cell_type": "code",
   "execution_count": 99,
   "metadata": {},
   "outputs": [
    {
     "data": {
      "image/png": "[encoded data removed]",
      "text/plain": [
       "<Figure size 640x480 with 1 Axes>"
      ]
     },
     "metadata": {},
     "output_type": "display_data"
    }
   ],
   "source": [
    "sns.scatterplot(data=loc_group, x=\"DATE\", y=\"COST\")\n",
    "plt.xticks(rotation=90)\n",
    "plt.show()"
   ]
  },
  {
   "cell_type": "code",
   "execution_count": 100,
   "metadata": {},
   "outputs": [],
   "source": [
    "data.to_csv(\"finance_data.csv\")"
   ]
  },
  {
   "cell_type": "code",
   "execution_count": null,
   "metadata": {},
   "outputs": [],
   "source": []
  }
 ],
 "metadata": {
  "kernelspec": {
   "display_name": "projects_env",
   "language": "python",
   "name": "python3"
  },
  "language_info": {
   "codemirror_mode": {
    "name": "ipython",
    "version": 3
   },
   "file_extension": ".py",
   "mimetype": "text/x-python",
   "name": "python",
   "nbconvert_exporter": "python",
   "pygments_lexer": "ipython3",
   "version": "3.10.12"
  }
 },
 "nbformat": 4,
 "nbformat_minor": 2
}
